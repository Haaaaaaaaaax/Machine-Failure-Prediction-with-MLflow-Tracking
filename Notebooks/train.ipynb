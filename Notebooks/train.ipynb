{
 "cells": [
  {
   "cell_type": "markdown",
   "metadata": {},
   "source": [
    "## We will train the data here"
   ]
  },
  {
   "cell_type": "markdown",
   "metadata": {},
   "source": [
    "**We will use pytorch nn**"
   ]
  },
  {
   "cell_type": "code",
   "execution_count": 84,
   "metadata": {},
   "outputs": [
    {
     "name": "stderr",
     "output_type": "stream",
     "text": [
      "c:\\Users\\iiven\\anaconda3\\envs\\AiProjects\\lib\\site-packages\\requests\\__init__.py:86: RequestsDependencyWarning: Unable to find acceptable character detection dependency (chardet or charset_normalizer).\n",
      "  warnings.warn(\n",
      "c:\\Users\\iiven\\anaconda3\\envs\\AiProjects\\lib\\site-packages\\tqdm\\auto.py:21: TqdmWarning: IProgress not found. Please update jupyter and ipywidgets. See https://ipywidgets.readthedocs.io/en/stable/user_install.html\n",
      "  from .autonotebook import tqdm as notebook_tqdm\n"
     ]
    }
   ],
   "source": [
    "import os\n",
    "import numpy as np\n",
    "import pandas as pd\n",
    "from sklearn.model_selection import train_test_split\n",
    "import torch\n",
    "import torch.nn as nn\n",
    "from torch.utils.data import DataLoader , TensorDataset\n",
    "import torch.optim as optim\n",
    "from tqdm import tqdm\n",
    "import mlflow\n",
    "import optuna"
   ]
  },
  {
   "cell_type": "code",
   "execution_count": 3,
   "metadata": {},
   "outputs": [],
   "source": [
    "os.chdir('..')"
   ]
  },
  {
   "cell_type": "code",
   "execution_count": 4,
   "metadata": {},
   "outputs": [
    {
     "data": {
      "text/plain": [
       "'c:\\\\Users\\\\iiven\\\\Ai-Cursor\\\\Machine failure prediction'"
      ]
     },
     "execution_count": 4,
     "metadata": {},
     "output_type": "execute_result"
    }
   ],
   "source": [
    "os.getcwd()"
   ]
  },
  {
   "cell_type": "code",
   "execution_count": 69,
   "metadata": {},
   "outputs": [],
   "source": [
    "df = pd.read_csv('Data/data_final_scaled.csv')\n"
   ]
  },
  {
   "cell_type": "code",
   "execution_count": 70,
   "metadata": {},
   "outputs": [
    {
     "data": {
      "text/html": [
       "<div>\n",
       "<style scoped>\n",
       "    .dataframe tbody tr th:only-of-type {\n",
       "        vertical-align: middle;\n",
       "    }\n",
       "\n",
       "    .dataframe tbody tr th {\n",
       "        vertical-align: top;\n",
       "    }\n",
       "\n",
       "    .dataframe thead th {\n",
       "        text-align: right;\n",
       "    }\n",
       "</style>\n",
       "<table border=\"1\" class=\"dataframe\">\n",
       "  <thead>\n",
       "    <tr style=\"text-align: right;\">\n",
       "      <th></th>\n",
       "      <th>footfall</th>\n",
       "      <th>AQ</th>\n",
       "      <th>USS</th>\n",
       "      <th>CS</th>\n",
       "      <th>VOC</th>\n",
       "      <th>RP</th>\n",
       "      <th>IP</th>\n",
       "      <th>Temperature</th>\n",
       "      <th>tempMode</th>\n",
       "      <th>fail</th>\n",
       "    </tr>\n",
       "  </thead>\n",
       "  <tbody>\n",
       "    <tr>\n",
       "      <th>0</th>\n",
       "      <td>-0.001913</td>\n",
       "      <td>-0.243883</td>\n",
       "      <td>0.876321</td>\n",
       "      <td>-2.764959</td>\n",
       "      <td>-0.866163</td>\n",
       "      <td>-0.092400</td>\n",
       "      <td>-1.020413</td>\n",
       "      <td>-2.595761</td>\n",
       "      <td>6</td>\n",
       "      <td>0</td>\n",
       "    </tr>\n",
       "    <tr>\n",
       "      <th>1</th>\n",
       "      <td>-0.655739</td>\n",
       "      <td>-0.933358</td>\n",
       "      <td>0.876321</td>\n",
       "      <td>-0.318784</td>\n",
       "      <td>-0.427245</td>\n",
       "      <td>-1.573419</td>\n",
       "      <td>0.840583</td>\n",
       "      <td>-2.595761</td>\n",
       "      <td>1</td>\n",
       "      <td>0</td>\n",
       "    </tr>\n",
       "    <tr>\n",
       "      <th>2</th>\n",
       "      <td>-0.655739</td>\n",
       "      <td>0.445591</td>\n",
       "      <td>-1.375365</td>\n",
       "      <td>0.496608</td>\n",
       "      <td>0.889510</td>\n",
       "      <td>1.265202</td>\n",
       "      <td>-1.020413</td>\n",
       "      <td>-2.595761</td>\n",
       "      <td>7</td>\n",
       "      <td>1</td>\n",
       "    </tr>\n",
       "    <tr>\n",
       "      <th>3</th>\n",
       "      <td>-0.655739</td>\n",
       "      <td>0.445591</td>\n",
       "      <td>-0.624803</td>\n",
       "      <td>0.496608</td>\n",
       "      <td>0.889510</td>\n",
       "      <td>-0.586073</td>\n",
       "      <td>-1.020413</td>\n",
       "      <td>-2.595761</td>\n",
       "      <td>2</td>\n",
       "      <td>1</td>\n",
       "    </tr>\n",
       "    <tr>\n",
       "      <th>4</th>\n",
       "      <td>-0.039274</td>\n",
       "      <td>-0.243883</td>\n",
       "      <td>0.125759</td>\n",
       "      <td>0.496608</td>\n",
       "      <td>0.011673</td>\n",
       "      <td>1.326911</td>\n",
       "      <td>-1.640746</td>\n",
       "      <td>-2.595761</td>\n",
       "      <td>7</td>\n",
       "      <td>0</td>\n",
       "    </tr>\n",
       "    <tr>\n",
       "      <th>5</th>\n",
       "      <td>4.388063</td>\n",
       "      <td>0.445591</td>\n",
       "      <td>0.876321</td>\n",
       "      <td>-1.949567</td>\n",
       "      <td>-1.305081</td>\n",
       "      <td>1.203493</td>\n",
       "      <td>-1.020413</td>\n",
       "      <td>-2.595761</td>\n",
       "      <td>2</td>\n",
       "      <td>0</td>\n",
       "    </tr>\n",
       "    <tr>\n",
       "      <th>6</th>\n",
       "      <td>0.184895</td>\n",
       "      <td>-1.622832</td>\n",
       "      <td>0.876321</td>\n",
       "      <td>0.496608</td>\n",
       "      <td>-1.305081</td>\n",
       "      <td>2.499385</td>\n",
       "      <td>-0.400081</td>\n",
       "      <td>-2.595761</td>\n",
       "      <td>7</td>\n",
       "      <td>0</td>\n",
       "    </tr>\n",
       "    <tr>\n",
       "      <th>7</th>\n",
       "      <td>0.091491</td>\n",
       "      <td>1.135065</td>\n",
       "      <td>-0.624803</td>\n",
       "      <td>-0.318784</td>\n",
       "      <td>0.889510</td>\n",
       "      <td>1.265202</td>\n",
       "      <td>-1.020413</td>\n",
       "      <td>-2.595761</td>\n",
       "      <td>3</td>\n",
       "      <td>1</td>\n",
       "    </tr>\n",
       "    <tr>\n",
       "      <th>8</th>\n",
       "      <td>-0.543654</td>\n",
       "      <td>0.445591</td>\n",
       "      <td>-0.624803</td>\n",
       "      <td>-1.134175</td>\n",
       "      <td>-0.427245</td>\n",
       "      <td>1.758875</td>\n",
       "      <td>-1.020413</td>\n",
       "      <td>-2.595761</td>\n",
       "      <td>1</td>\n",
       "      <td>1</td>\n",
       "    </tr>\n",
       "    <tr>\n",
       "      <th>9</th>\n",
       "      <td>-0.618377</td>\n",
       "      <td>-0.243883</td>\n",
       "      <td>0.876321</td>\n",
       "      <td>0.496608</td>\n",
       "      <td>-1.305081</td>\n",
       "      <td>1.512038</td>\n",
       "      <td>-1.640746</td>\n",
       "      <td>-2.595761</td>\n",
       "      <td>7</td>\n",
       "      <td>0</td>\n",
       "    </tr>\n",
       "  </tbody>\n",
       "</table>\n",
       "</div>"
      ],
      "text/plain": [
       "   footfall        AQ       USS  ...  Temperature  tempMode  fail\n",
       "0 -0.001913 -0.243883  0.876321  ...    -2.595761         6     0\n",
       "1 -0.655739 -0.933358  0.876321  ...    -2.595761         1     0\n",
       "2 -0.655739  0.445591 -1.375365  ...    -2.595761         7     1\n",
       "3 -0.655739  0.445591 -0.624803  ...    -2.595761         2     1\n",
       "4 -0.039274 -0.243883  0.125759  ...    -2.595761         7     0\n",
       "5  4.388063  0.445591  0.876321  ...    -2.595761         2     0\n",
       "6  0.184895 -1.622832  0.876321  ...    -2.595761         7     0\n",
       "7  0.091491  1.135065 -0.624803  ...    -2.595761         3     1\n",
       "8 -0.543654  0.445591 -0.624803  ...    -2.595761         1     1\n",
       "9 -0.618377 -0.243883  0.876321  ...    -2.595761         7     0\n",
       "\n",
       "[10 rows x 10 columns]"
      ]
     },
     "execution_count": 70,
     "metadata": {},
     "output_type": "execute_result"
    }
   ],
   "source": [
    "df.head(10)"
   ]
  },
  {
   "cell_type": "code",
   "execution_count": 71,
   "metadata": {},
   "outputs": [],
   "source": [
    "train_df, dummy_df = train_test_split(df, test_size=0.2, random_state=42, shuffle= True, stratify= df['fail'])\n",
    "val_df, test_df = train_test_split(dummy_df, test_size=0.5, random_state=42)\n"
   ]
  },
  {
   "cell_type": "code",
   "execution_count": 72,
   "metadata": {},
   "outputs": [
    {
     "data": {
      "text/plain": [
       "((601, 10), (75, 10), (76, 10))"
      ]
     },
     "execution_count": 72,
     "metadata": {},
     "output_type": "execute_result"
    }
   ],
   "source": [
    "train_df.shape, val_df.shape, test_df.shape\n"
   ]
  },
  {
   "cell_type": "code",
   "execution_count": 73,
   "metadata": {},
   "outputs": [],
   "source": [
    "def df_to_tensors(df):\n",
    "    X = torch.tensor(df.iloc[:, :-1].values, dtype=torch.float32)\n",
    "    y = torch.tensor(df.iloc[:, -1].values, dtype=torch.long)\n",
    "    return X, y"
   ]
  },
  {
   "cell_type": "code",
   "execution_count": 74,
   "metadata": {},
   "outputs": [],
   "source": [
    "X_train, y_train = df_to_tensors(train_df)\n",
    "X_val, y_val = df_to_tensors(val_df)\n",
    "X_test, y_test = df_to_tensors(test_df)"
   ]
  },
  {
   "cell_type": "code",
   "execution_count": 75,
   "metadata": {},
   "outputs": [
    {
     "data": {
      "text/plain": [
       "(torch.Size([601, 9]),\n",
       " torch.Size([601]),\n",
       " torch.Size([75, 9]),\n",
       " torch.Size([75]),\n",
       " torch.Size([76, 9]),\n",
       " torch.Size([76]))"
      ]
     },
     "execution_count": 75,
     "metadata": {},
     "output_type": "execute_result"
    }
   ],
   "source": [
    "X_train.shape, y_train.shape, X_val.shape, y_val.shape, X_test.shape, y_test.shape\n"
   ]
  },
  {
   "cell_type": "code",
   "execution_count": 76,
   "metadata": {},
   "outputs": [],
   "source": [
    "train_ds = TensorDataset(X_train, y_train)\n",
    "val_ds = TensorDataset(X_val, y_val)\n",
    "test_ds = TensorDataset(X_test, y_test)"
   ]
  },
  {
   "cell_type": "code",
   "execution_count": 77,
   "metadata": {},
   "outputs": [],
   "source": [
    "batch_size = 16\n",
    "train_loader = DataLoader(train_ds, batch_size=batch_size, shuffle=True)\n",
    "val_loader = DataLoader(val_ds, batch_size=batch_size)\n",
    "test_loader = DataLoader(test_ds, batch_size=batch_size)\n"
   ]
  },
  {
   "cell_type": "code",
   "execution_count": 79,
   "metadata": {},
   "outputs": [],
   "source": [
    "class ANNModel(nn.Module):\n",
    "    def __init__(self, input_size, hidden1, hidden2, dropout_rate, num_classes):\n",
    "        super().__init__()\n",
    "        self.net = nn.Sequential(\n",
    "            nn.Linear(input_size, hidden1),\n",
    "            nn.ReLU(),\n",
    "            nn.Dropout(dropout_rate),\n",
    "            nn.Linear(hidden1, hidden2),\n",
    "            nn.ReLU(),\n",
    "            nn.Dropout(dropout_rate),\n",
    "            nn.Linear(hidden2, num_classes)\n",
    "        )\n",
    "\n",
    "    def forward(self, x):\n",
    "        return self.net(x)"
   ]
  },
  {
   "cell_type": "code",
   "execution_count": 81,
   "metadata": {},
   "outputs": [
    {
     "data": {
      "text/plain": [
       "device(type='cuda')"
      ]
     },
     "execution_count": 81,
     "metadata": {},
     "output_type": "execute_result"
    }
   ],
   "source": [
    "device = torch.device(\"cuda\" if torch.cuda.is_available() else \"cpu\")\n",
    "device\n"
   ]
  },
  {
   "cell_type": "code",
   "execution_count": 86,
   "metadata": {},
   "outputs": [],
   "source": [
    "def train_model(model, train_loader, val_loader, optimizer, criterion, epochs):\n",
    "    model.to(device)\n",
    "    for epoch in range(epochs):\n",
    "        model.train()\n",
    "        total_loss = 0\n",
    "        train_loop = tqdm(train_loader, desc=f\"Epoch {epoch+1}/{epochs} [Training]\", leave=False)\n",
    "        \n",
    "        for X_batch, y_batch in train_loop:\n",
    "            X_batch, y_batch = X_batch.to(device), y_batch.to(device)\n",
    "\n",
    "            optimizer.zero_grad()\n",
    "            outputs = model(X_batch)\n",
    "            loss = criterion(outputs, y_batch)\n",
    "            loss.backward()\n",
    "            optimizer.step()\n",
    "\n",
    "            total_loss += loss.item()\n",
    "            train_loop.set_postfix(loss=loss.item())\n",
    "\n",
    "        # Validation\n",
    "        model.eval()\n",
    "        correct, total = 0, 0\n",
    "        with torch.no_grad():\n",
    "            for X_val_batch, y_val_batch in val_loader:\n",
    "                X_val_batch, y_val_batch = X_val_batch.to(device), y_val_batch.to(device)\n",
    "                val_outputs = model(X_val_batch)\n",
    "                _, preds = torch.max(val_outputs, 1)\n",
    "                correct += (preds == y_val_batch).sum().item()\n",
    "                total += y_val_batch.size(0)\n",
    "\n",
    "        val_acc = correct / total\n",
    "        mlflow.log_metric(\"val_accuracy\", val_acc, step=epoch)\n",
    "        mlflow.log_metric(\"train_loss\", total_loss, step=epoch)\n",
    "\n",
    "    return val_acc"
   ]
  },
  {
   "cell_type": "code",
   "execution_count": 87,
   "metadata": {},
   "outputs": [],
   "source": [
    "def objective(trial):\n",
    "    input_size = X_train.shape[1]\n",
    "    num_classes = len(torch.unique(y_train))\n",
    "\n",
    "    # Hyperparameters to tune\n",
    "    hidden1 = trial.suggest_int(\"hidden1\", 64, 512)\n",
    "    hidden2 = trial.suggest_int(\"hidden2\", 64, 512)\n",
    "    dropout = trial.suggest_float(\"dropout\", 0.2, 0.5)\n",
    "    lr = trial.suggest_float(\"lr\", 1e-4, 1e-2, log=True)\n",
    "\n",
    "    model = ANNModel(input_size, hidden1, hidden2, dropout, num_classes)\n",
    "    optimizer = optim.Adam(model.parameters(), lr=lr)\n",
    "    criterion = nn.CrossEntropyLoss()\n",
    "\n",
    "    with mlflow.start_run():\n",
    "        mlflow.log_params({\n",
    "            \"hidden1\": hidden1,\n",
    "            \"hidden2\": hidden2,\n",
    "            \"dropout\": dropout,\n",
    "            \"lr\": lr\n",
    "        })\n",
    "        val_acc = train_model(model, train_loader, val_loader, optimizer, criterion, epochs=10)\n",
    "        mlflow.log_metric(\"final_val_accuracy\", val_acc)\n",
    "\n",
    "    return val_acc"
   ]
  },
  {
   "cell_type": "code",
   "execution_count": 88,
   "metadata": {},
   "outputs": [
    {
     "name": "stderr",
     "output_type": "stream",
     "text": [
      "[I 2025-05-20 17:42:37,092] A new study created in memory with name: no-name-21e742c3-ee77-423d-b850-1b81755e7d66\n",
      "[I 2025-05-20 17:42:41,973] Trial 0 finished with value: 0.8933333333333333 and parameters: {'hidden1': 179, 'hidden2': 105, 'dropout': 0.35000605896485326, 'lr': 0.009661489045449138}. Best is trial 0 with value: 0.8933333333333333.\n",
      "[I 2025-05-20 17:42:45,524] Trial 1 finished with value: 0.92 and parameters: {'hidden1': 316, 'hidden2': 315, 'dropout': 0.21012854806855708, 'lr': 0.008067267081653808}. Best is trial 1 with value: 0.92.\n",
      "[I 2025-05-20 17:42:49,075] Trial 2 finished with value: 0.88 and parameters: {'hidden1': 359, 'hidden2': 179, 'dropout': 0.2731041852309133, 'lr': 0.008437544620241969}. Best is trial 1 with value: 0.92.\n",
      "[I 2025-05-20 17:42:52,679] Trial 3 finished with value: 0.8666666666666667 and parameters: {'hidden1': 342, 'hidden2': 493, 'dropout': 0.23068842922499136, 'lr': 0.0007626716682150326}. Best is trial 1 with value: 0.92.\n",
      "[I 2025-05-20 17:42:55,964] Trial 4 finished with value: 0.88 and parameters: {'hidden1': 147, 'hidden2': 362, 'dropout': 0.28562183758388626, 'lr': 0.006975713614407973}. Best is trial 1 with value: 0.92.\n",
      "[I 2025-05-20 17:42:59,299] Trial 5 finished with value: 0.8666666666666667 and parameters: {'hidden1': 357, 'hidden2': 155, 'dropout': 0.3395296093048229, 'lr': 0.008312241100075491}. Best is trial 1 with value: 0.92.\n",
      "[I 2025-05-20 17:43:02,704] Trial 6 finished with value: 0.9333333333333333 and parameters: {'hidden1': 370, 'hidden2': 398, 'dropout': 0.4498854777974932, 'lr': 0.0017328640072318206}. Best is trial 6 with value: 0.9333333333333333.\n",
      "[I 2025-05-20 17:43:06,522] Trial 7 finished with value: 0.92 and parameters: {'hidden1': 275, 'hidden2': 450, 'dropout': 0.3507338990207075, 'lr': 0.0038784441319249176}. Best is trial 6 with value: 0.9333333333333333.\n",
      "[I 2025-05-20 17:43:10,272] Trial 8 finished with value: 0.8666666666666667 and parameters: {'hidden1': 444, 'hidden2': 441, 'dropout': 0.4472995509222642, 'lr': 0.006852112371226293}. Best is trial 6 with value: 0.9333333333333333.\n",
      "[I 2025-05-20 17:43:14,137] Trial 9 finished with value: 0.8933333333333333 and parameters: {'hidden1': 436, 'hidden2': 160, 'dropout': 0.3241511412192407, 'lr': 0.002426969583778184}. Best is trial 6 with value: 0.9333333333333333.\n"
     ]
    }
   ],
   "source": [
    "study = optuna.create_study(direction=\"maximize\")\n",
    "study.optimize(objective, n_trials=10)\n"
   ]
  },
  {
   "cell_type": "code",
   "execution_count": 89,
   "metadata": {},
   "outputs": [
    {
     "data": {
      "text/plain": [
       "FrozenTrial(number=6, state=TrialState.COMPLETE, values=[0.9333333333333333], datetime_start=datetime.datetime(2025, 5, 20, 17, 42, 59, 302868), datetime_complete=datetime.datetime(2025, 5, 20, 17, 43, 2, 704363), params={'hidden1': 370, 'hidden2': 398, 'dropout': 0.4498854777974932, 'lr': 0.0017328640072318206}, user_attrs={}, system_attrs={}, intermediate_values={}, distributions={'hidden1': IntDistribution(high=512, log=False, low=64, step=1), 'hidden2': IntDistribution(high=512, log=False, low=64, step=1), 'dropout': FloatDistribution(high=0.5, log=False, low=0.2, step=None), 'lr': FloatDistribution(high=0.01, log=True, low=0.0001, step=None)}, trial_id=6, value=None)"
      ]
     },
     "execution_count": 89,
     "metadata": {},
     "output_type": "execute_result"
    }
   ],
   "source": [
    "study.best_trial"
   ]
  },
  {
   "cell_type": "code",
   "execution_count": null,
   "metadata": {},
   "outputs": [],
   "source": []
  }
 ],
 "metadata": {
  "kernelspec": {
   "display_name": "AiProjects",
   "language": "python",
   "name": "python3"
  },
  "language_info": {
   "codemirror_mode": {
    "name": "ipython",
    "version": 3
   },
   "file_extension": ".py",
   "mimetype": "text/x-python",
   "name": "python",
   "nbconvert_exporter": "python",
   "pygments_lexer": "ipython3",
   "version": "3.10.16"
  }
 },
 "nbformat": 4,
 "nbformat_minor": 2
}
